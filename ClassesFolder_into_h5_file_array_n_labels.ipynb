{
 "cells": [
  {
   "cell_type": "code",
   "execution_count": 18,
   "metadata": {
    "collapsed": false
   },
   "outputs": [],
   "source": [
    "import numpy as np\n",
    "import h5py\n",
    "import matplotlib.image as mpimg\n",
    "import matplotlib.pyplot as plt\n",
    "from functions.functions_image_training import *"
   ]
  },
  {
   "cell_type": "code",
   "execution_count": 19,
   "metadata": {
    "collapsed": false
   },
   "outputs": [],
   "source": [
    "rejects = 'data/images/rejects/'\n",
    "mainfolder = 'data/images/quality_confirmed/'"
   ]
  },
  {
   "cell_type": "code",
   "execution_count": 20,
   "metadata": {
    "collapsed": false
   },
   "outputs": [
    {
     "name": "stdout",
     "output_type": "stream",
     "text": [
      "{1: 'High_Quality', 2: 'Medium_Quality', 3: 'Unable_Poor'}\n"
     ]
    }
   ],
   "source": [
    "img_dict, cat_list = classifier_folder_to_jpg_dict_list(mainfolder,rejects)\n",
    "list_of_tuples = cat_list_to_list_of_tuples(img_dict, cat_list)\n",
    "############### INPUTS: including bacth size, list of tuples and image dictionary###########################\n",
    "total_num = len(list_of_tuples)\n",
    "classes = len(img_dict)\n",
    "single_input_shape = (450,450,3)\n",
    "target_height,target_width,target_depth = single_input_shape\n",
    "print(img_dict)"
   ]
  },
  {
   "cell_type": "code",
   "execution_count": 16,
   "metadata": {
    "collapsed": false
   },
   "outputs": [
    {
     "data": {
      "text/plain": [
       "{1: 'High_Quality', 2: 'Medium_Quality', 3: 'rejects', 4: 'Unable_Poor'}"
      ]
     },
     "execution_count": 16,
     "metadata": {},
     "output_type": "execute_result"
    }
   ],
   "source": [
    "img_dict"
   ]
  },
  {
   "cell_type": "code",
   "execution_count": 22,
   "metadata": {
    "collapsed": false
   },
   "outputs": [
    {
     "name": "stdout",
     "output_type": "stream",
     "text": [
      "0.0\n",
      "0.05263157894736842\n",
      "0.10526315789473684\n",
      "0.15789473684210525\n",
      "0.21052631578947367\n",
      "0.2631578947368421\n",
      "0.3157894736842105\n",
      "0.3684210526315789\n",
      "0.42105263157894735\n",
      "0.47368421052631576\n",
      "0.5263157894736842\n",
      "0.5789473684210527\n",
      "0.631578947368421\n",
      "0.6842105263157895\n",
      "0.7368421052631579\n",
      "0.7894736842105263\n",
      "0.8421052631578947\n",
      "0.8947368421052632\n",
      "0.9473684210526315\n"
     ]
    }
   ],
   "source": [
    "for i in range(total_num):\n",
    "\n",
    "    cycle_image = mpimg.imread(mainfolder + list_of_tuples[i][1])\n",
    "    cycle_label =list_of_tuples[i][0]\n",
    "    \n",
    "    with h5py.File('data/qualdataZ.h5', 'a') as qd:\n",
    "    \n",
    "        qd.create_dataset(\"image\"+ str(i),data=cycle_image,compression=\"gzip\")\n",
    "        qd.create_dataset(\"label\" + str(i),data=cycle_label,compression=\"gzip\")\n",
    "        \n",
    "    if i %100 ==0:\n",
    "        print(i/total_num)"
   ]
  },
  {
   "cell_type": "code",
   "execution_count": null,
   "metadata": {
    "collapsed": true
   },
   "outputs": [],
   "source": []
  }
 ],
 "metadata": {
  "kernelspec": {
   "display_name": "Python 3",
   "language": "python",
   "name": "python3"
  },
  "language_info": {
   "codemirror_mode": {
    "name": "ipython",
    "version": 3
   },
   "file_extension": ".py",
   "mimetype": "text/x-python",
   "name": "python",
   "nbconvert_exporter": "python",
   "pygments_lexer": "ipython3",
   "version": "3.5.1"
  }
 },
 "nbformat": 4,
 "nbformat_minor": 0
}
