{
 "cells": [
  {
   "cell_type": "code",
   "execution_count": 1,
   "metadata": {
    "collapsed": false
   },
   "outputs": [
    {
     "name": "stderr",
     "output_type": "stream",
     "text": [
      "//anaconda/lib/python3.5/site-packages/pandas/computation/__init__.py:19: UserWarning: The installed version of numexpr 2.4.4 is not supported in pandas and will be not be used\n",
      "\n",
      "  UserWarning)\n"
     ]
    }
   ],
   "source": [
    "from functions.functions_image_training import *\n",
    "import tensorflow as tf\n",
    "import timeit\n",
    "import numpy as np\n",
    "import matplotlib.image as mpimg\n",
    "import matplotlib.pyplot as plt\n",
    "import random\n",
    "%matplotlib inline"
   ]
  },
  {
   "cell_type": "code",
   "execution_count": 2,
   "metadata": {
    "collapsed": true
   },
   "outputs": [],
   "source": [
    "mainfolder = '/Users/carsonlam/vp/quality_confirmed/'\n",
    "rejects = '/Users/carsonlam/vp/rejects/'"
   ]
  },
  {
   "cell_type": "code",
   "execution_count": 3,
   "metadata": {
    "collapsed": false
   },
   "outputs": [],
   "source": [
    "img_dict, cat_list = classifier_folder_to_jpg_dict_list(mainfolder,rejects)"
   ]
  },
  {
   "cell_type": "code",
   "execution_count": 4,
   "metadata": {
    "collapsed": false
   },
   "outputs": [
    {
     "data": {
      "text/plain": [
       "list"
      ]
     },
     "execution_count": 4,
     "metadata": {},
     "output_type": "execute_result"
    }
   ],
   "source": [
    "list_of_tuples = cat_list_to_list_of_tuples(img_dict, cat_list)\n",
    "type(list_of_tuples)"
   ]
  },
  {
   "cell_type": "code",
   "execution_count": 5,
   "metadata": {
    "collapsed": false
   },
   "outputs": [
    {
     "data": {
      "text/plain": [
       "[array([ 1.,  0.,  0.]), 'High_Quality/17128_RE.jpg']"
      ]
     },
     "execution_count": 5,
     "metadata": {},
     "output_type": "execute_result"
    }
   ],
   "source": [
    "list_of_tuples[4]"
   ]
  },
  {
   "cell_type": "code",
   "execution_count": 6,
   "metadata": {
    "collapsed": false
   },
   "outputs": [
    {
     "data": {
      "text/plain": [
       "[array([ 1.,  0.,  0.]), 'High_Quality/19546_RE.jpg']"
      ]
     },
     "execution_count": 6,
     "metadata": {},
     "output_type": "execute_result"
    }
   ],
   "source": [
    "random.shuffle(list_of_tuples)\n",
    "list_of_tuples[4]"
   ]
  },
  {
   "cell_type": "code",
   "execution_count": 25,
   "metadata": {
    "collapsed": false
   },
   "outputs": [
    {
     "name": "stdout",
     "output_type": "stream",
     "text": [
      "0 252\n",
      "[441 619   3] [450 450   3] <class 'numpy.ndarray'>\n",
      "0 255\n",
      "[450 600   3] [450 450   3] <class 'numpy.ndarray'>\n",
      "0 206\n",
      "[450 600   3] [450 450   3] <class 'numpy.ndarray'>\n",
      "0 225\n",
      "[450 600   3] [450 450   3] <class 'numpy.ndarray'>\n",
      "0 255\n",
      "[450 600   3] [450 450   3] <class 'numpy.ndarray'>\n",
      "0 255\n",
      "[450 600   3] [450 450   3] <class 'numpy.ndarray'>\n",
      "0 255\n",
      "[450 600   3] [450 450   3] <class 'numpy.ndarray'>\n",
      "0 113\n",
      "[450 600   3] [450 450   3] <class 'numpy.ndarray'>\n",
      "0 198\n",
      "[450 600   3] [450 450   3] <class 'numpy.ndarray'>\n",
      "0 148\n",
      "[450 600   3] [450 450   3] <class 'numpy.ndarray'>\n",
      "0 255\n",
      "[450 600   3] [450 450   3] <class 'numpy.ndarray'>\n",
      "0 255\n",
      "[450 600   3] [450 450   3] <class 'numpy.ndarray'>\n",
      "0 255\n",
      "[450 600   3] [450 450   3] <class 'numpy.ndarray'>\n",
      "0 255\n",
      "[450 600   3] [450 450   3] <class 'numpy.ndarray'>\n",
      "0 239\n",
      "[450 600   3] [450 450   3] <class 'numpy.ndarray'>\n",
      "0 191\n",
      "[450 600   3] [450 450   3] <class 'numpy.ndarray'>\n",
      "0 163\n",
      "[450 600   3] [450 450   3] <class 'numpy.ndarray'>\n",
      "0 255\n",
      "[450 600   3] [450 450   3] <class 'numpy.ndarray'>\n",
      "DONE, ran for 0.01m\n"
     ]
    }
   ],
   "source": [
    "start_time = timeit.default_timer()\n",
    "\n",
    "############### INPUTS: including bacth size, list of tuples and image dictionary###########################\n",
    "total_num = len(list_of_tuples)\n",
    "classes = len(img_dict)\n",
    "batch_size = 6\n",
    "num_steps = int(total_num / batch_size)\n",
    "single_input_shape = (450,450,3)\n",
    "new_height,new_width,new_depth = single_input_shape\n",
    "\n",
    "################ TENSOR FLOW #########################################\n",
    "# TF variables\n",
    "tensor_image = tf.placeholder(\"uint8\", [None, None, 3])\n",
    "\n",
    "#manipulations \n",
    "original_shape = tf.shape(tensor_image)\n",
    "resized_image = tf.image.resize_images(tensor_image, new_height, new_width)\n",
    "resized_shape = tf.shape(resized_image)\n",
    "\n",
    "#initialization class for session running\n",
    "model = tf.initialize_all_variables()\n",
    "########################################################################\n",
    "\n",
    "########## FOR TESTING ONLY #######################################\n",
    "num_steps = 3\n",
    "\n",
    "\n",
    "########## TRAINING LOOP #####################################################\n",
    "with tf.Session() as session: \n",
    "    \n",
    "    session.run(model)\n",
    "\n",
    "########## ONE EPOCH #####################################################\n",
    "    for step in range(num_steps):\n",
    "        offset = (step * batch_size) % (total_num)\n",
    "        start = offset\n",
    "        end = offset + batch_size\n",
    "        if total_num - end < batch_size:\n",
    "            end += (total_num % batch_size)\n",
    "\n",
    "#################################################################################\n",
    "\n",
    "        training_labels = np.zeros((batch_size,classes))\n",
    "        training_tensors = np.zeros((batch_size,*single_input_shape))\n",
    "\n",
    "####### USE 'start' and 'end'#####################################\n",
    "    ### HERE ################################################################\n",
    "        i =0\n",
    "        for j in range(start,end):\n",
    "\n",
    "            cycle_image = mpimg.imread(mainfolder + list_of_tuples[j][1])\n",
    "            \n",
    "            print(np.amin(cycle_image),np.amax(cycle_image))\n",
    "\n",
    "            Original_shape, Resized_image, Resized_shape = session.run([original_shape,resized_image,resized_shape], \n",
    "                                                           feed_dict={tensor_image: cycle_image})\n",
    "            \n",
    "            training_labels[i] =  list_of_tuples[j][0]\n",
    "            training_tensors[i] = Resized_image/255\n",
    "            \n",
    "            i+=1\n",
    "            print(Original_shape, Resized_shape, type(Resized_image))\n",
    "\n",
    "                \n",
    "        if step > 2:\n",
    "            break \n",
    "        \n",
    "#######################################################################################\n",
    "    #print('step',step, 'from ',start, 'to ',end)\n",
    "end_time = timeit.default_timer()\n",
    "print('DONE, ran for %.2fm' % ((end_time - start_time) / 60.))"
   ]
  },
  {
   "cell_type": "code",
   "execution_count": 21,
   "metadata": {
    "collapsed": false
   },
   "outputs": [],
   "source": [
    "single_input_shape = (450,450,3)\n",
    "new_height,new_width,new_depth = single_input_shape\n",
    "holder = np.zeros((4,*single_input_shape))"
   ]
  },
  {
   "cell_type": "code",
   "execution_count": 23,
   "metadata": {
    "collapsed": false
   },
   "outputs": [
    {
     "data": {
      "text/plain": [
       "450"
      ]
     },
     "execution_count": 23,
     "metadata": {},
     "output_type": "execute_result"
    }
   ],
   "source": [
    "new_height"
   ]
  },
  {
   "cell_type": "code",
   "execution_count": null,
   "metadata": {
    "collapsed": true
   },
   "outputs": [],
   "source": []
  }
 ],
 "metadata": {
  "kernelspec": {
   "display_name": "Python 3",
   "language": "python",
   "name": "python3"
  },
  "language_info": {
   "codemirror_mode": {
    "name": "ipython",
    "version": 3
   },
   "file_extension": ".py",
   "mimetype": "text/x-python",
   "name": "python",
   "nbconvert_exporter": "python",
   "pygments_lexer": "ipython3",
   "version": "3.5.1"
  }
 },
 "nbformat": 4,
 "nbformat_minor": 0
}
